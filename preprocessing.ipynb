{
 "cells": [
  {
   "cell_type": "code",
   "execution_count": null,
   "metadata": {},
   "outputs": [],
   "source": [
    "import h5py    \n",
    "import numpy as np \n",
    "import matplotlib.pyplot as plt\n",
    "from pyjet import cluster,DTYPE_PTEPM\n",
    "import pandas as pd"
   ]
  },
  {
   "cell_type": "markdown",
   "metadata": {},
   "source": [
    "# Dataset loading"
   ]
  },
  {
   "cell_type": "markdown",
   "metadata": {},
   "source": [
    "Notebook derived from https://github.com/lhcolympics2020/parsingscripts. We need the downloaded datasets from the LHC Olympics."
   ]
  },
  {
   "cell_type": "markdown",
   "metadata": {},
   "source": [
    "## R&D dataset"
   ]
  },
  {
   "cell_type": "code",
   "execution_count": null,
   "metadata": {},
   "outputs": [],
   "source": [
    "fn_RandD = \"events_anomalydetection_v2.h5\""
   ]
  },
  {
   "cell_type": "markdown",
   "metadata": {},
   "source": [
    "## BB1 dataset"
   ]
  },
  {
   "cell_type": "code",
   "execution_count": null,
   "metadata": {},
   "outputs": [],
   "source": [
    "fn_bb1 = \"events_LHCO2020_BlackBox1.h5\"\n",
    "fn_key_bb1 = \"events_LHCO2020_BlackBox1.masterkey\""
   ]
  },
  {
   "cell_type": "code",
   "execution_count": null,
   "metadata": {},
   "outputs": [],
   "source": [
    "fn_2_bb1 = []\n",
    "with open(fn_key_bb1, 'r') as f:# 'r' = read\n",
    "    for nline, line in enumerate(f):\n",
    "        if nline > 99:\n",
    "            pass\n",
    "#             break\n",
    "        fn_2_bb1.append(float(line))\n",
    "fn_2_bb1=np.array(fn_2_bb1).reshape(-1,1)"
   ]
  },
  {
   "cell_type": "markdown",
   "metadata": {},
   "source": [
    "# Dataset processing"
   ]
  },
  {
   "cell_type": "markdown",
   "metadata": {},
   "source": [
    "We turn the dataset into two arrays: $x$ containing the invariant masses and NSubjetiness of the two leading jets and $y$ containing the invariant mass of the event."
   ]
  },
  {
   "cell_type": "markdown",
   "metadata": {},
   "source": [
    "## R&D"
   ]
  },
  {
   "cell_type": "code",
   "execution_count": null,
   "metadata": {},
   "outputs": [],
   "source": [
    "Nbkg = 1000000\n",
    "Nsig = 100000\n",
    "Ndata = Nbkg+Nsig\n",
    "batch_size = 1000"
   ]
  },
  {
   "cell_type": "code",
   "execution_count": null,
   "metadata": {},
   "outputs": [],
   "source": [
    "Ndata/batch_size"
   ]
  },
  {
   "cell_type": "code",
   "execution_count": null,
   "metadata": {},
   "outputs": [],
   "source": [
    "#Now, let's cluster some jets!\n",
    "\n",
    "# I create empty dictionaries to group bkg and signal\n",
    "\n",
    "pT1 = {}\n",
    "pT2 = {}\n",
    "\n",
    "deltaPhi12 = {}\n",
    "deltaEta12 = {}\n",
    "\n",
    "mj1 = {}\n",
    "mj2 = {}\n",
    "\n",
    "tau21_1 = {}\n",
    "tau21_2 = {}\n",
    "\n",
    "tau31_1 = {}\n",
    "tau31_2 = {}\n",
    "\n",
    "tau32_1 = {}\n",
    "tau32_2 = {}\n",
    "\n",
    "alljets = {}\n",
    "\n",
    "mjj={}\n",
    "\n",
    "# I fill the dictionary with empty lists that I'll fill\n",
    "for mytype in ['background','signal']:\n",
    "    pT1[mytype]=[]\n",
    "    pT2[mytype]=[]\n",
    "    \n",
    "    deltaPhi12[mytype]=[]\n",
    "    deltaEta12[mytype]=[]\n",
    "    \n",
    "    mj1[mytype] = []\n",
    "    mj2[mytype] = []\n",
    "    \n",
    "    tau21_1[mytype] = []\n",
    "    tau21_2[mytype] = []\n",
    "    \n",
    "    tau31_1[mytype] = []\n",
    "    tau31_2[mytype] = []\n",
    "\n",
    "    tau32_1[mytype] = []\n",
    "    tau32_2[mytype] = []\n",
    "    \n",
    "    alljets[mytype]=[]\n",
    "    \n",
    "    mjj[mytype]=[]"
   ]
  },
  {
   "cell_type": "markdown",
   "metadata": {},
   "source": [
    "There are two cells here in case the user does not want to process everything and wants a subset of Background and of Signal"
   ]
  },
  {
   "cell_type": "code",
   "execution_count": null,
   "metadata": {},
   "outputs": [],
   "source": [
    "for ii in range(int(Nbkg/batch_size)+1):\n",
    "    start = ii*batch_size\n",
    "    stop = (ii+1)*batch_size\n",
    "    \n",
    "    events_combined = np.array(pd.read_hdf(fn_RandD,start=start,stop=stop))\n",
    "                                \n",
    "    for mytype in ['background']:\n",
    "        for i in range(np.shape(events_combined)[0]):\n",
    "            if (i%1000==0):\n",
    "#                 print(mytype,i)\n",
    "                pass\n",
    "            # get the true label of the event\n",
    "            issignal = events_combined[i,2100]\n",
    "            # check whether we filling the appropriate dictionary\n",
    "            if (mytype=='background' and issignal):\n",
    "                continue\n",
    "            elif (mytype=='signal' and issignal==0):\n",
    "                 continue\n",
    "            #create a pseudo_jet input for the pyjet implementation\n",
    "            pseudojets_input = np.zeros(len([x for x in events_combined[i,::3] if x > 0]), dtype=DTYPE_PTEPM)\n",
    "            for j in range(700):\n",
    "                if (events_combined[i][j*3]>0):\n",
    "                    pseudojets_input[j]['pT'] = events_combined[i,j*3]\n",
    "                    pseudojets_input[j]['eta'] = events_combined[i,j*3+1]\n",
    "                    pseudojets_input[j]['phi'] = events_combined[i,j*3+2]\n",
    "                    pass\n",
    "                pass\n",
    "            # cluster into jets\n",
    "            sequence = cluster(pseudojets_input, R=1.0, p=-1)\n",
    "            jets = sequence.inclusive_jets(ptmin=20)\n",
    "            # get NSubjetiness (with homemade suboptimal algorithm)\n",
    "            taus = np.array([nsubjet(jets[0],1.0,1.0),nsubjet(jets[0],1.0,2.0),nsubjet(jets[0],1.0,3.0),nsubjet(jets[1],1.0,1.0),nsubjet(jets[1],1.0,2.0),nsubjet(jets[1],1.0,3.0)])\n",
    "            if taus[0]==0.0 or taus[3]==0.0 or taus[1]==0.0 or taus[4]==0.0:\n",
    "                continue\n",
    "            vec = np.array([taus[1]/taus[0], taus[4]/taus[3],taus[2]/taus[0], taus[5]/taus[3],taus[2]/taus[1], taus[5]/taus[4]])\n",
    "            \n",
    "            # order by mass\n",
    "    \n",
    "            if jets[0].mass >= jets[1].mass:\n",
    "                ind1 = 0\n",
    "                ind2 = 1\n",
    "            else:\n",
    "                ind1 = 1\n",
    "                ind2 = 0\n",
    "                \n",
    "            # start saving \n",
    "            pT1[mytype] += [jets[ind1].pt]\n",
    "            pT2[mytype] += [jets[ind2].pt]\n",
    "            \n",
    "            deltaPhi12[mytype] += [jets[ind1].phi-jets[ind2].phi]\n",
    "            deltaEta12[mytype] += [jets[ind1].eta-jets[ind2].eta]\n",
    "            \n",
    "            mj1[mytype] += [jets[ind1].mass]\n",
    "            mj2[mytype] += [jets[ind2].mass]\n",
    "            \n",
    "            tau21_1[mytype] +=[vec[ind1]]\n",
    "            tau21_2[mytype] +=[vec[ind2]]\n",
    "\n",
    "            tau31_1[mytype] +=[vec[2+ind1]]\n",
    "            tau31_2[mytype] +=[vec[2+ind2]]\n",
    "            \n",
    "            tau32_1[mytype] +=[vec[4+ind1]]\n",
    "            tau32_2[mytype] +=[vec[4+ind2]]\n",
    "            \n",
    "            alljets[mytype] += [jets]\n",
    "            E = jets[0].e+jets[1].e\n",
    "            px = jets[0].px+jets[1].px\n",
    "            py = jets[0].py+jets[1].py\n",
    "            pz = jets[0].pz+jets[1].pz\n",
    "            mjj[mytype]+=[(E**2-px**2-py**2-pz**2)**0.5]\n",
    "            pass"
   ]
  },
  {
   "cell_type": "code",
   "execution_count": null,
   "metadata": {},
   "outputs": [],
   "source": [
    "for ii in range(int(Nsig/batch_size)+1):\n",
    "    start = ii*batch_size\n",
    "    stop = (ii+1)*batch_size\n",
    "    \n",
    "    events_combined = np.array(pd.read_hdf(fn_RandD,start=1000000+start,stop=1000000+stop))\n",
    "    \n",
    "    for mytype in ['signal']:\n",
    "        for i in range(np.shape(events_combined)[0]):\n",
    "            if (i%1000==0):\n",
    "#                 print(mytype,i)\n",
    "                pass\n",
    "            # get the true label of the event\n",
    "            issignal = events_combined[i,2100]\n",
    "            # check whether we filling the appropriate dictionary\n",
    "            if (mytype=='background' and issignal):\n",
    "                continue\n",
    "            elif (mytype=='signal' and issignal==0):\n",
    "                 continue\n",
    "            #create a pseudo_jet input for the pyjet implementation\n",
    "            pseudojets_input = np.zeros(len([x for x in events_combined[i,::3] if x > 0]), dtype=DTYPE_PTEPM)\n",
    "            for j in range(700):\n",
    "                if (events_combined[i][j*3]>0):\n",
    "                    pseudojets_input[j]['pT'] = events_combined[i,j*3]\n",
    "                    pseudojets_input[j]['eta'] = events_combined[i,j*3+1]\n",
    "                    pseudojets_input[j]['phi'] = events_combined[i,j*3+2]\n",
    "                    pass\n",
    "                pass\n",
    "            # cluster into jets\n",
    "            sequence = cluster(pseudojets_input, R=1.0, p=-1)\n",
    "            jets = sequence.inclusive_jets(ptmin=20)\n",
    "            # get NSubjetiness (with homemade suboptimal algorithm)\n",
    "            taus = np.array([nsubjet(jets[0],1.0,1.0),nsubjet(jets[0],1.0,2.0),nsubjet(jets[0],1.0,3.0),nsubjet(jets[1],1.0,1.0),nsubjet(jets[1],1.0,2.0),nsubjet(jets[1],1.0,3.0)])\n",
    "            if taus[0]==0.0 or taus[3]==0.0 or taus[1]==0.0 or taus[4]==0.0:\n",
    "                continue\n",
    "            vec = np.array([taus[1]/taus[0], taus[4]/taus[3],taus[2]/taus[0], taus[5]/taus[3],taus[2]/taus[1], taus[5]/taus[4]])\n",
    "            \n",
    "            # order by mass\n",
    "    \n",
    "            if jets[0].mass >= jets[1].mass:\n",
    "                ind1 = 0\n",
    "                ind2 = 1\n",
    "            else:\n",
    "                ind1 = 1\n",
    "                ind2 = 0\n",
    "                \n",
    "            # start saving \n",
    "            pT1[mytype] += [jets[ind1].pt]\n",
    "            pT2[mytype] += [jets[ind2].pt]\n",
    "            \n",
    "            deltaPhi12[mytype] += [jets[ind1].phi-jets[ind2].phi]\n",
    "            deltaEta12[mytype] += [jets[ind1].eta-jets[ind2].eta]\n",
    "            \n",
    "            mj1[mytype] += [jets[ind1].mass]\n",
    "            mj2[mytype] += [jets[ind2].mass]\n",
    "            \n",
    "            tau21_1[mytype] +=[vec[ind1]]\n",
    "            tau21_2[mytype] +=[vec[ind2]]\n",
    "\n",
    "            tau31_1[mytype] +=[vec[2+ind1]]\n",
    "            tau31_2[mytype] +=[vec[2+ind2]]\n",
    "            \n",
    "            tau32_1[mytype] +=[vec[4+ind1]]\n",
    "            tau32_2[mytype] +=[vec[4+ind2]]\n",
    "            \n",
    "            alljets[mytype] += [jets]\n",
    "            E = jets[0].e+jets[1].e\n",
    "            px = jets[0].px+jets[1].px\n",
    "            py = jets[0].py+jets[1].py\n",
    "            pz = jets[0].pz+jets[1].pz\n",
    "            mjj[mytype]+=[(E**2-px**2-py**2-pz**2)**0.5]\n",
    "            pass"
   ]
  },
  {
   "cell_type": "code",
   "execution_count": null,
   "metadata": {},
   "outputs": [],
   "source": [
    "y_together = np.hstack([mjj['background'],mjj['signal']])\n",
    "labels_together = np.hstack([np.zeros(len(mjj['background'])),np.ones(len(mjj['signal']))])\n",
    "x_together = np.vstack([np.vstack([mj1['background'],mj2['background'],tau21_1['background'],tau21_2['background']]).T,np.vstack([mj1['signal'],mj2['signal'],tau21_1['signal'],tau21_2['signal']]).T])"
   ]
  },
  {
   "cell_type": "code",
   "execution_count": null,
   "metadata": {},
   "outputs": [],
   "source": [
    "np.save('y_RandD.npy',y_together)\n",
    "np.save('labels_RandD.npy',labels_together)\n",
    "np.save('x_RandD.npy',x_together)"
   ]
  },
  {
   "cell_type": "markdown",
   "metadata": {},
   "source": [
    "## BB1"
   ]
  },
  {
   "cell_type": "code",
   "execution_count": null,
   "metadata": {},
   "outputs": [],
   "source": [
    "Ndata = 1000000\n",
    "batch_size = 1000"
   ]
  },
  {
   "cell_type": "code",
   "execution_count": null,
   "metadata": {},
   "outputs": [],
   "source": [
    "#Now, let's cluster some jets!\n",
    "\n",
    "# I create empty dictionaries to group bkg and signal\n",
    "\n",
    "pT1 = {}\n",
    "pT2 = {}\n",
    "\n",
    "deltaPhi12 = {}\n",
    "deltaEta12 = {}\n",
    "\n",
    "mj1 = {}\n",
    "mj2 = {}\n",
    "\n",
    "tau21_1 = {}\n",
    "tau21_2 = {}\n",
    "\n",
    "tau31_1 = {}\n",
    "tau31_2 = {}\n",
    "\n",
    "tau32_1 = {}\n",
    "tau32_2 = {}\n",
    "\n",
    "alljets = {}\n",
    "\n",
    "mjj={}\n",
    "\n",
    "# I fill the dictionary with empty lists that I'll fill\n",
    "for mytype in ['background','signal']:\n",
    "    pT1[mytype]=[]\n",
    "    pT2[mytype]=[]\n",
    "    \n",
    "    deltaPhi12[mytype]=[]\n",
    "    deltaEta12[mytype]=[]\n",
    "    \n",
    "    mj1[mytype] = []\n",
    "    mj2[mytype] = []\n",
    "    \n",
    "    tau21_1[mytype] = []\n",
    "    tau21_2[mytype] = []\n",
    "    \n",
    "    tau31_1[mytype] = []\n",
    "    tau31_2[mytype] = []\n",
    "\n",
    "    tau32_1[mytype] = []\n",
    "    tau32_2[mytype] = []\n",
    "    \n",
    "    alljets[mytype]=[]\n",
    "    \n",
    "    mjj[mytype]=[]"
   ]
  },
  {
   "cell_type": "code",
   "execution_count": null,
   "metadata": {},
   "outputs": [],
   "source": [
    "for ii in range(int(Ndata/batch_size)+1):\n",
    "    start = ii*batch_size\n",
    "    stop = (ii+1)*batch_size\n",
    "    \n",
    "    events_combined = np.hstack([np.array(pd.read_hdf(fn_BB1,start=start,stop=stop)),fn_2_bb1[start:stop]])\n",
    "                                \n",
    "    for mytype in ['background','signal']:\n",
    "        for i in range(np.shape(events_combined)[0]):\n",
    "            if (i%1000==0):\n",
    "#                 print(mytype,i)\n",
    "                pass\n",
    "            # get the true label of the event\n",
    "            issignal = events_combined[i,2100]\n",
    "            # check whether we filling the appropriate dictionary\n",
    "            if (mytype=='background' and issignal):\n",
    "                continue\n",
    "            elif (mytype=='signal' and issignal==0):\n",
    "                 continue\n",
    "            #create a pseudo_jet input for the pyjet implementation\n",
    "            pseudojets_input = np.zeros(len([x for x in events_combined[i,::3] if x > 0]), dtype=DTYPE_PTEPM)\n",
    "            for j in range(700):\n",
    "                if (events_combined[i][j*3]>0):\n",
    "                    pseudojets_input[j]['pT'] = events_combined[i,j*3]\n",
    "                    pseudojets_input[j]['eta'] = events_combined[i,j*3+1]\n",
    "                    pseudojets_input[j]['phi'] = events_combined[i,j*3+2]\n",
    "                    pass\n",
    "                pass\n",
    "            # cluster into jets\n",
    "            sequence = cluster(pseudojets_input, R=1.0, p=-1)\n",
    "            jets = sequence.inclusive_jets(ptmin=20)\n",
    "            # get NSubjetiness (with homemade suboptimal algorithm)\n",
    "            taus = np.array([nsubjet(jets[0],1.0,1.0),nsubjet(jets[0],1.0,2.0),nsubjet(jets[0],1.0,3.0),nsubjet(jets[1],1.0,1.0),nsubjet(jets[1],1.0,2.0),nsubjet(jets[1],1.0,3.0)])\n",
    "            if taus[0]==0.0 or taus[3]==0.0 or taus[1]==0.0 or taus[4]==0.0:\n",
    "                continue\n",
    "            vec = np.array([taus[1]/taus[0], taus[4]/taus[3],taus[2]/taus[0], taus[5]/taus[3],taus[2]/taus[1], taus[5]/taus[4]])\n",
    "            \n",
    "            # order by mass\n",
    "    \n",
    "            if jets[0].mass >= jets[1].mass:\n",
    "                ind1 = 0\n",
    "                ind2 = 1\n",
    "            else:\n",
    "                ind1 = 1\n",
    "                ind2 = 0\n",
    "                \n",
    "            # start saving \n",
    "            pT1[mytype] += [jets[ind1].pt]\n",
    "            pT2[mytype] += [jets[ind2].pt]\n",
    "            \n",
    "            deltaPhi12[mytype] += [jets[ind1].phi-jets[ind2].phi]\n",
    "            deltaEta12[mytype] += [jets[ind1].eta-jets[ind2].eta]\n",
    "            \n",
    "            mj1[mytype] += [jets[ind1].mass]\n",
    "            mj2[mytype] += [jets[ind2].mass]\n",
    "            \n",
    "            tau21_1[mytype] +=[vec[ind1]]\n",
    "            tau21_2[mytype] +=[vec[ind2]]\n",
    "\n",
    "            tau31_1[mytype] +=[vec[2+ind1]]\n",
    "            tau31_2[mytype] +=[vec[2+ind2]]\n",
    "            \n",
    "            tau32_1[mytype] +=[vec[4+ind1]]\n",
    "            tau32_2[mytype] +=[vec[4+ind2]]\n",
    "            \n",
    "            alljets[mytype] += [jets]\n",
    "            E = jets[0].e+jets[1].e\n",
    "            px = jets[0].px+jets[1].px\n",
    "            py = jets[0].py+jets[1].py\n",
    "            pz = jets[0].pz+jets[1].pz\n",
    "            mjj[mytype]+=[(E**2-px**2-py**2-pz**2)**0.5]\n",
    "            pass"
   ]
  },
  {
   "cell_type": "code",
   "execution_count": null,
   "metadata": {},
   "outputs": [],
   "source": [
    "y_together = np.hstack([mjj['background'],mjj['signal']])\n",
    "labels_together = np.hstack([np.zeros(len(mjj['background'])),np.ones(len(mjj['signal']))])\n",
    "x_together = np.vstack([np.vstack([mj1['background'],mj2['background'],tau21_1['background'],tau21_2['background']]).T,np.vstack([mj1['signal'],mj2['signal'],tau21_1['signal'],tau21_2['signal']]).T])"
   ]
  },
  {
   "cell_type": "code",
   "execution_count": null,
   "metadata": {},
   "outputs": [],
   "source": [
    "np.save('y_BB1.npy',y_together)\n",
    "np.save('labels_BB1.npy',labels_together)\n",
    "np.save('x_BB1.npy',x_together)"
   ]
  },
  {
   "cell_type": "markdown",
   "metadata": {},
   "source": [
    "# Plots"
   ]
  },
  {
   "cell_type": "code",
   "execution_count": null,
   "metadata": {},
   "outputs": [],
   "source": [
    "#Let's make some very simple plots.\n",
    "fig = plt.figure()\n",
    "ax = fig.add_subplot(1, 1, 1)\n",
    "n,b,p = plt.hist(mj1['background'], bins=50, facecolor='r', alpha=0.2,label='background',density=True)\n",
    "plt.hist(mj1['signal'], bins=b, facecolor='b', alpha=0.2,label='signal',density=True)\n",
    "plt.xlabel(r'$m_{j_{1}}$ [GeV]')\n",
    "plt.ylabel('Number of events')\n",
    "plt.legend(loc='upper right')\n",
    "plt.show()\n",
    "# plt.savefig(\"mj1.pdf\")"
   ]
  },
  {
   "cell_type": "code",
   "execution_count": null,
   "metadata": {},
   "outputs": [],
   "source": [
    "#Let's make some very simple plots.\n",
    "fig = plt.figure()\n",
    "ax = fig.add_subplot(1, 1, 1)\n",
    "n,b,p = plt.hist(np.array(mj1['background'])-np.array(mj2['background']), bins=50, facecolor='r', alpha=0.2,label='background',density=True)\n",
    "plt.hist(np.array(mj1['signal'])-np.array(mj2['signal']), bins=b, facecolor='b', alpha=0.2,label='signal',density=True)\n",
    "plt.xlabel(r'$\\Delta m_{j}$ [GeV]')\n",
    "plt.ylabel('Number of events')\n",
    "plt.legend(loc='upper right')\n",
    "plt.show()\n",
    "# plt.savefig(\"deltamj.pdf\")"
   ]
  },
  {
   "cell_type": "code",
   "execution_count": null,
   "metadata": {},
   "outputs": [],
   "source": [
    "#Let's make some very simple plots.\n",
    "fig = plt.figure()\n",
    "ax = fig.add_subplot(1, 1, 1)\n",
    "n,b,p = plt.hist(tau21_1['background'], bins=np.linspace(0,1), facecolor='r', alpha=0.2,label='background',density=True)\n",
    "plt.hist(tau21_1['signal'], bins=b, facecolor='b', alpha=0.2,label='signal',density=True)\n",
    "plt.xlabel(r'$\\tau_{21,1}$')\n",
    "plt.ylabel('Number of events')\n",
    "plt.legend(loc='upper right')\n",
    "plt.xlim(0,1)\n",
    "plt.show()\n",
    "# plt.savefig(\"tau21_1.pdf\")"
   ]
  },
  {
   "cell_type": "code",
   "execution_count": null,
   "metadata": {},
   "outputs": [],
   "source": [
    "#Let's make some very simple plots.\n",
    "fig = plt.figure()\n",
    "ax = fig.add_subplot(1, 1, 1)\n",
    "n,b,p = plt.hist(tau21_2['background'], bins=np.linspace(0,1), facecolor='r', alpha=0.2,label='background',density=True)\n",
    "plt.hist(tau21_2['signal'], bins=b, facecolor='b', alpha=0.2,label='signal',density=True)\n",
    "plt.xlabel(r'$\\tau_{21,2}$')\n",
    "plt.ylabel('Number of events')\n",
    "plt.legend(loc='upper right')\n",
    "plt.xlim(0,1)\n",
    "plt.show()\n",
    "# plt.savefig(\"tau21_2.pdf\")"
   ]
  },
  {
   "cell_type": "code",
   "execution_count": null,
   "metadata": {},
   "outputs": [],
   "source": [
    "#Let's make some very simple plots.\n",
    "fig = plt.figure()\n",
    "ax = fig.add_subplot(1, 1, 1)\n",
    "n,b,p = plt.hist(tau31_1['background'], bins=np.linspace(0,1), facecolor='r', alpha=0.2,label='background',density=True)\n",
    "plt.hist(tau31_1['signal'], bins=b, facecolor='b', alpha=0.2,label='signal',density=True)\n",
    "plt.xlabel(r'$\\tau_{31,1}$')\n",
    "plt.ylabel('Number of events')\n",
    "plt.legend(loc='upper right')\n",
    "plt.xlim(0,1)\n",
    "plt.show()\n",
    "# plt.savefig(\"tau31_1.pdf\")"
   ]
  },
  {
   "cell_type": "code",
   "execution_count": null,
   "metadata": {},
   "outputs": [],
   "source": [
    "#Let's make some very simple plots.\n",
    "fig = plt.figure()\n",
    "ax = fig.add_subplot(1, 1, 1)\n",
    "n,b,p = plt.hist(tau31_2['background'], bins=np.linspace(0,1), facecolor='r', alpha=0.2,label='background',density=True)\n",
    "plt.hist(tau31_2['signal'], bins=b, facecolor='b', alpha=0.2,label='signal',density=True)\n",
    "plt.xlabel(r'$\\tau_{31,2}$')\n",
    "plt.ylabel('Number of events')\n",
    "plt.legend(loc='upper right')\n",
    "plt.xlim(0,1)\n",
    "plt.show()\n",
    "plt.savefig(\"tau31_2.pdf\")"
   ]
  },
  {
   "cell_type": "code",
   "execution_count": null,
   "metadata": {},
   "outputs": [],
   "source": [
    "#Let's make some very simple plots.\n",
    "fig = plt.figure()\n",
    "ax = fig.add_subplot(1, 1, 1)\n",
    "n,b,p = plt.hist(tau32_1['background'], bins=np.linspace(0,1), facecolor='r', alpha=0.2,label='background',density=True)\n",
    "plt.hist(tau32_1['signal'], bins=b, facecolor='b', alpha=0.2,label='signal',density=True)\n",
    "plt.xlabel(r'$\\tau_{32,1}$')\n",
    "plt.ylabel('Number of events')\n",
    "plt.legend(loc='upper right')\n",
    "plt.xlim(0,1)\n",
    "plt.show()\n",
    "# plt.savefig(\"tau32_1.pdf\")"
   ]
  },
  {
   "cell_type": "code",
   "execution_count": null,
   "metadata": {},
   "outputs": [],
   "source": [
    "#Let's make some very simple plots.\n",
    "fig = plt.figure()\n",
    "ax = fig.add_subplot(1, 1, 1)\n",
    "n,b,p = plt.hist(tau32_2['background'], bins=np.linspace(0,1), facecolor='r', alpha=0.2,label='background',density=True)\n",
    "plt.hist(tau32_2['signal'], bins=b, facecolor='b', alpha=0.2,label='signal',density=True)\n",
    "plt.xlabel(r'$\\tau_{32,2}$')\n",
    "plt.ylabel('Number of events')\n",
    "plt.legend(loc='upper right')\n",
    "plt.xlim(0,1)\n",
    "plt.show()\n",
    "# plt.savefig(\"tau32_2.pdf\")"
   ]
  },
  {
   "cell_type": "code",
   "execution_count": null,
   "metadata": {},
   "outputs": [],
   "source": [
    "plt.scatter(mj1['background'],deltamj['background'])\n",
    "plt.scatter(mj1['signal'],deltamj['signal'])"
   ]
  },
  {
   "cell_type": "code",
   "execution_count": null,
   "metadata": {},
   "outputs": [],
   "source": [
    "plt.scatter(mj1['background'],tau21_1['background'])\n",
    "plt.scatter(mj1['signal'],tau21_1['signal'])"
   ]
  },
  {
   "cell_type": "code",
   "execution_count": null,
   "metadata": {},
   "outputs": [],
   "source": [
    "plt.scatter(mj1['background'],tau21_2['background'])\n",
    "plt.scatter(mj1['signal'],tau21_2['signal'])"
   ]
  },
  {
   "cell_type": "code",
   "execution_count": null,
   "metadata": {},
   "outputs": [],
   "source": [
    "plt.scatter(tau21_1['background'],tau21_2['background'])\n",
    "plt.scatter(tau21_1['signal'],tau21_2['signal'])"
   ]
  },
  {
   "cell_type": "code",
   "execution_count": null,
   "metadata": {},
   "outputs": [],
   "source": [
    "plt.scatter(deltamj['background'],tau21_1['background'])\n",
    "plt.scatter(deltamj['signal'],tau21_1['signal'])"
   ]
  },
  {
   "cell_type": "code",
   "execution_count": null,
   "metadata": {},
   "outputs": [],
   "source": [
    "plt.scatter(deltamj['background'],tau21_2['background'])\n",
    "plt.scatter(deltamj['signal'],tau21_2['signal'])"
   ]
  },
  {
   "cell_type": "code",
   "execution_count": null,
   "metadata": {},
   "outputs": [],
   "source": [
    "fig = plt.figure()\n",
    "ax = fig.add_subplot(1, 1, 1)\n",
    "n,b,p = plt.hist(mjj['background'], bins=50, facecolor='r', alpha=0.2,label='background',density=True)\n",
    "plt.hist(mjj['signal'], bins=b, facecolor='b', alpha=0.2,label='signal',density=True)\n",
    "plt.xlabel(r'$m_{JJ}$ [GeV]')\n",
    "plt.ylabel('Number of events')\n",
    "plt.legend(loc='upper right')\n",
    "plt.show()\n",
    "# plt.savefig(\"mjj.pdf\")"
   ]
  }
 ],
 "metadata": {
  "kernelspec": {
   "display_name": "Python 3 (ipykernel)",
   "language": "python",
   "name": "python3"
  },
  "language_info": {
   "codemirror_mode": {
    "name": "ipython",
    "version": 3
   },
   "file_extension": ".py",
   "mimetype": "text/x-python",
   "name": "python",
   "nbconvert_exporter": "python",
   "pygments_lexer": "ipython3",
   "version": "3.9.6"
  }
 },
 "nbformat": 4,
 "nbformat_minor": 2
}
