{
 "cells": [
  {
   "cell_type": "code",
   "execution_count": 4,
   "id": "799198a1",
   "metadata": {},
   "outputs": [],
   "source": [
    "import numpy as np\n",
    "import matplotlib.pyplot as plt\n",
    "from matplotlib import rc\n",
    "font = {'size'   : 22}\n",
    "rc('font', **font)\n",
    "plt.rcParams['text.latex.preamble'] = r'\\usepackage{amsmath}'\n",
    "rc('text', usetex=True)\n",
    "plt.rcParams['font.family']='Computer Modern'\n",
    "import scipy.stats as st\n",
    "import os\n",
    "from sklearn.preprocessing import StandardScaler, MinMaxScaler"
   ]
  },
  {
   "cell_type": "markdown",
   "id": "f4faedd1",
   "metadata": {},
   "source": [
    "This notebook produces the first Figure of the paper where we show the jet mass dependence with respect with the invariant mass of the event through the $\\Delta^{ab}_{c}$"
   ]
  },
  {
   "cell_type": "markdown",
   "id": "65a719ec",
   "metadata": {},
   "source": [
    "# Dir definition"
   ]
  },
  {
   "cell_type": "code",
   "execution_count": 2,
   "id": "859f24b6",
   "metadata": {
    "scrolled": true
   },
   "outputs": [],
   "source": [
    "WPs_dir='training/'"
   ]
  },
  {
   "cell_type": "code",
   "execution_count": 3,
   "id": "b83e904b",
   "metadata": {},
   "outputs": [],
   "source": [
    "results_dir='plots/'"
   ]
  },
  {
   "cell_type": "code",
   "execution_count": 7,
   "id": "ad0366f5",
   "metadata": {},
   "outputs": [
    {
     "name": "stdout",
     "output_type": "stream",
     "text": [
      "(1099868, 12)\n",
      "999899\n"
     ]
    }
   ],
   "source": [
    "y_together = np.load('y_RandD.npy')\n",
    "labels_together = np.load('labels_RandD.npy')\n",
    "x_together = np.load('x_RandD.npy')\n",
    "print(x_together.shape)\n",
    "x_together[:,0]=x_together[:,0]#-x_together[:,1]\n",
    "nB = np.sum(labels_together==0.0)\n",
    "print(nB)"
   ]
  },
  {
   "cell_type": "markdown",
   "id": "3c0addb6",
   "metadata": {},
   "source": [
    "# Effect comparison"
   ]
  },
  {
   "cell_type": "code",
   "execution_count": 8,
   "id": "653966b6",
   "metadata": {},
   "outputs": [
    {
     "name": "stdout",
     "output_type": "stream",
     "text": [
      "999899 99969\n",
      "0.26588432474100376 342476\n"
     ]
    }
   ],
   "source": [
    "nS = np.sum(labels_together==1.0)#\n",
    "print(nB,nS)\n",
    "y_together_bis=y_together[:nB+nS]\n",
    "labels_together_bis=labels_together[:nB+nS]\n",
    "x_together_bis=x_together[:nB+nS]    \n",
    "scaler = StandardScaler()\n",
    "x_together_bis = x_together_bis\n",
    "\n",
    "# same as 2009.02205\n",
    "y_low = 3100.0\n",
    "y_high = 3900.0\n",
    "\n",
    "x_together_bis=x_together_bis[y_together_bis>=y_low]\n",
    "labels_together_bis=labels_together_bis[y_together_bis>=y_low]\n",
    "y_together_bis=y_together_bis[y_together_bis>=y_low]\n",
    "\n",
    "x_together_bis=x_together_bis[y_together_bis<=y_high]\n",
    "labels_together_bis=labels_together_bis[y_together_bis<=y_high]\n",
    "y_together_bis=y_together_bis[y_together_bis<=y_high]\n",
    "    \n",
    "y_nbins=10 # chosen to get enough statistics\n",
    "y_bins = np.array([np.quantile(y_together_bis,i*1.0/(y_nbins-1)) for i in range(y_nbins) ])\n",
    "    \n",
    "print(np.sum(labels_together_bis)/len(labels_together_bis),len(labels_together_bis))\n",
    "    \n",
    "SR_min = 3300.0\n",
    "SR_max = 3700.0\n",
    "bins_SR = [np.argmin(np.abs(y_bins-SR_min)),np.argmin(np.abs(y_bins-SR_max))]\n",
    "SR = [y_bins[np.argmin(np.abs(y_bins-SR_min))],y_bins[np.argmin(np.abs(y_bins-SR_max))]]\n",
    "SR_min = SR[0]\n",
    "SR_max = SR[1]\n",
    "labels_mixture_together = np.array([1 if a and b else 0 for a,b in zip(y_together_bis>SR[0],y_together_bis<=SR[1])])\n",
    "\n",
    "bins_SR = [np.argmin(np.abs(y_bins-SR_min)),np.argmin(np.abs(y_bins-SR_max))]"
   ]
  },
  {
   "cell_type": "markdown",
   "id": "75e11fba",
   "metadata": {},
   "source": [
    "Get the total average mass per class"
   ]
  },
  {
   "cell_type": "code",
   "execution_count": 9,
   "id": "021a890e",
   "metadata": {
    "scrolled": true
   },
   "outputs": [
    {
     "name": "stdout",
     "output_type": "stream",
     "text": [
      "306.28461152632104\n",
      "135.05326403307006\n",
      "482.6729102881045\n",
      "129.7354291229767\n"
     ]
    }
   ],
   "source": [
    "m1_avg_bkg = np.mean(x_together_bis[labels_together_bis==0.0,0])\n",
    "print(m1_avg_bkg)\n",
    "m2_avg_bkg = np.mean(x_together_bis[labels_together_bis==0.0,1])\n",
    "print(m2_avg_bkg)\n",
    "\n",
    "m1_avg_sig = np.mean(x_together_bis[labels_together_bis==1.0,0])\n",
    "print(m1_avg_sig)\n",
    "m2_avg_sig = np.mean(x_together_bis[labels_together_bis==1.0,1])\n",
    "print(m2_avg_sig)"
   ]
  },
  {
   "cell_type": "markdown",
   "id": "16e71196",
   "metadata": {},
   "source": [
    "Get the relative error"
   ]
  },
  {
   "cell_type": "code",
   "execution_count": 10,
   "id": "746752c1",
   "metadata": {},
   "outputs": [
    {
     "name": "stdout",
     "output_type": "stream",
     "text": [
      "0.0006982518687222432\n",
      "0.0003739930127349614\n",
      "0.0011550902097561943\n",
      "0.0006784697612665457\n"
     ]
    }
   ],
   "source": [
    "m1_err_bkg = np.std(x_together_bis[labels_together_bis==0.0,0])/np.sum(labels_together_bis==0.0)\n",
    "print(m1_err_bkg)\n",
    "m2_err_bkg = np.std(x_together_bis[labels_together_bis==0.0,1])/np.sum(labels_together_bis==0.0)\n",
    "print(m2_err_bkg)\n",
    "\n",
    "m1_err_sig = np.std(x_together_bis[labels_together_bis==1.0,0])/np.sum(labels_together_bis==1.0)\n",
    "print(m1_err_sig)\n",
    "m2_err_sig = np.std(x_together_bis[labels_together_bis==1.0,1])/np.sum(labels_together_bis==1.0)\n",
    "print(m2_err_sig)"
   ]
  },
  {
   "cell_type": "markdown",
   "id": "323d5d27",
   "metadata": {},
   "source": [
    "Get the average mass per bin per class"
   ]
  },
  {
   "cell_type": "code",
   "execution_count": 11,
   "id": "16d58e8f",
   "metadata": {},
   "outputs": [],
   "source": [
    "m1_per_bin_bkg = np.zeros(len(y_bins)-1)\n",
    "m2_per_bin_bkg = np.zeros(len(y_bins)-1)\n",
    "\n",
    "m1_per_bin_sig = np.zeros(len(y_bins)-1)\n",
    "m2_per_bin_sig = np.zeros(len(y_bins)-1)\n",
    "\n",
    "for nbin in range(len(y_bins)-1):\n",
    "    indexes = np.array([a and b for a,b in zip(y_together_bis>=y_bins[nbin],y_together_bis<y_bins[nbin+1])])\n",
    "    m1_per_bin_bkg[nbin] = np.mean(x_together_bis[indexes][labels_together_bis[indexes]==0.0,0])\n",
    "#     print(m1_per_bin_bkg[nbin])\n",
    "    m2_per_bin_bkg[nbin] = np.mean(x_together_bis[indexes][labels_together_bis[indexes]==0.0,1])\n",
    "#     print(m2_per_bin_bkg[nbin])\n",
    "\n",
    "    m1_per_bin_sig[nbin] = np.mean(x_together_bis[indexes][labels_together_bis[indexes]==1.0,0])\n",
    "#     print(m1_avg_sig)\n",
    "    m2_per_bin_sig[nbin] = np.mean(x_together_bis[indexes][labels_together_bis[indexes]==1.0,1])\n",
    "#     print(m2_avg_sig)"
   ]
  },
  {
   "cell_type": "markdown",
   "id": "b56fb889",
   "metadata": {},
   "source": [
    "Get the relative error"
   ]
  },
  {
   "cell_type": "code",
   "execution_count": 12,
   "id": "01f68f50",
   "metadata": {},
   "outputs": [],
   "source": [
    "err_m1_per_bin_bkg = np.zeros(len(y_bins)-1)\n",
    "err_m2_per_bin_bkg = np.zeros(len(y_bins)-1)\n",
    "\n",
    "err_m1_per_bin_sig = np.zeros(len(y_bins)-1)\n",
    "err_m2_per_bin_sig = np.zeros(len(y_bins)-1)\n",
    "\n",
    "for nbin in range(len(y_bins)-1):\n",
    "    indexes = np.array([a and b for a,b in zip(y_together_bis>=y_bins[nbin],y_together_bis<y_bins[nbin+1])])\n",
    "    err_m1_per_bin_bkg[nbin] = np.std(x_together_bis[indexes][labels_together_bis[indexes]==0.0,0])/np.sum(labels_together_bis[indexes]==0.0)\n",
    "#     print(err_m1_per_bin_bkg[nbin])\n",
    "    err_m2_per_bin_bkg[nbin] = np.std(x_together_bis[indexes][labels_together_bis[indexes]==0.0,1])/np.sum(labels_together_bis[indexes]==0.0)\n",
    "#     print(m2_per_bin_bkg[nbin])\n",
    "\n",
    "    err_m1_per_bin_sig[nbin] = np.std(x_together_bis[indexes][labels_together_bis[indexes]==1.0,0])/np.sum(labels_together_bis[indexes]==1.0)\n",
    "#     print(m1_avg_sig)\n",
    "    err_m2_per_bin_sig[nbin] = np.std(x_together_bis[indexes][labels_together_bis[indexes]==1.0,1])/np.sum(labels_together_bis[indexes]==1.0)\n",
    "#     print(m2_avg_sig)"
   ]
  },
  {
   "cell_type": "markdown",
   "id": "f888b12b",
   "metadata": {},
   "source": [
    "Get the error in each Delta"
   ]
  },
  {
   "cell_type": "code",
   "execution_count": 13,
   "id": "93041514",
   "metadata": {},
   "outputs": [
    {
     "name": "stdout",
     "output_type": "stream",
     "text": [
      "38053 36125 1928\n",
      "38053 34748 3305\n",
      "38053 31983 6070\n",
      "38053 27299 10754\n",
      "38052 22379 15673\n",
      "38053 19645 18408\n",
      "38053 20677 17376\n",
      "38053 25820 12233\n",
      "38052 32740 5312\n"
     ]
    }
   ],
   "source": [
    "err_delta_1_per_bin_bkg = np.zeros(len(y_bins)-1)\n",
    "err_delta_2_per_bin_bkg = np.zeros(len(y_bins)-1)\n",
    "\n",
    "err_delta_1_per_bin_sig = np.zeros(len(y_bins)-1)\n",
    "err_delta_2_per_bin_sig = np.zeros(len(y_bins)-1)\n",
    "\n",
    "for nbin in range(len(y_bins)-1):\n",
    "    indexes = np.array([a and b for a,b in zip(y_together_bis>=y_bins[nbin],y_together_bis<y_bins[nbin+1])])\n",
    "    print(np.sum(indexes),np.sum(labels_together_bis[indexes]==0.0),np.sum(labels_together_bis[indexes]==1.0))\n",
    "\n",
    "    err_delta_1_per_bin_bkg[nbin] = (m1_per_bin_bkg[nbin]/m1_avg_bkg) * np.sqrt((err_m1_per_bin_bkg[nbin]/m1_per_bin_bkg[nbin])**2+(m1_err_bkg/m1_avg_bkg)**2)\n",
    "    err_delta_2_per_bin_bkg[nbin] = (m2_per_bin_bkg[nbin]/m2_avg_bkg) * np.sqrt((err_m2_per_bin_bkg[nbin]/m2_per_bin_bkg[nbin])**2+(m2_err_bkg/m2_avg_bkg)**2)\n",
    "\n",
    "    err_delta_1_per_bin_sig[nbin] = (m1_per_bin_sig[nbin]/m1_avg_bkg) * np.sqrt((err_m1_per_bin_sig[nbin]/m1_per_bin_sig[nbin])**2+(m1_err_bkg/m1_avg_bkg)**2)\n",
    "    err_delta_2_per_bin_sig[nbin] = (m2_per_bin_sig[nbin]/m2_avg_bkg) * np.sqrt((err_m2_per_bin_sig[nbin]/m2_per_bin_sig[nbin])**2+(m2_err_bkg/m2_avg_bkg)**2)\n",
    "\n"
   ]
  },
  {
   "cell_type": "code",
   "execution_count": 14,
   "id": "72f6767e",
   "metadata": {},
   "outputs": [],
   "source": [
    "mycolors = [(1., 0.4, 0.0), (0.655728, 0.8, 0.),\n",
    "   (0., 0.742291, 0.873126), (1., 0.656408, 0.), \n",
    "   (0.893126, 0.4, 0.767184), \n",
    "   (0.295048, 0.8, 0.286932), \n",
    "   (0.238758, 0.610466, 1.), (1., 0.325204, 0.406504),\n",
    "    (0., 0.786874, 0.739379), (1., 0.520437, 0.), \n",
    "   (0.7529330319872088, 0.4176501130047967, 1.), \n",
    "   (0.5572809000084149, 0.8, 0), \n",
    "   (1., 0.06811595600706821, 0.0851449450088353), (0, 0.7226017980018511, 0.9321946059944466), \n",
    "   (1., 0.7154761789941944, 0)];"
   ]
  },
  {
   "cell_type": "code",
   "execution_count": 19,
   "id": "7d07cb71",
   "metadata": {},
   "outputs": [
    {
     "data": {
      "image/png": "[encoded data removed]",
      "text/plain": [
       "<Figure size 800x600 with 1 Axes>"
      ]
     },
     "metadata": {},
     "output_type": "display_data"
    }
   ],
   "source": [
    "plt.figure(figsize=(2*4,2*3))\n",
    "plt.errorbar(x=0.5*(y_bins[:-1]+y_bins[1:]),xerr=0.5*(y_bins[1:]-y_bins[:-1]),y=(m1_per_bin_bkg-m1_avg_bkg)/m1_avg_bkg,yerr=err_delta_1_per_bin_bkg,fmt='o',color=mycolors[6],label=r'$\\Delta_{m_1}^{BB}$')\n",
    "plt.errorbar(x=0.5*(y_bins[:-1]+y_bins[1:]),xerr=0.5*(y_bins[1:]-y_bins[:-1]),y=(m2_per_bin_bkg-m2_avg_bkg)/m2_avg_bkg,yerr=err_delta_2_per_bin_bkg,fmt='s',color=mycolors[6],label=r'$\\Delta_{m_2}^{BB}$')\n",
    "\n",
    "plt.errorbar(x=0.5*(y_bins[:-1]+y_bins[1:]),xerr=0.5*(y_bins[1:]-y_bins[:-1]),y=0.01*(m1_per_bin_sig-m1_avg_bkg)/m1_avg_bkg,yerr=0.01*err_delta_1_per_bin_sig,fmt='o',color=mycolors[7],label=r'$(S/B)\\Delta_{m_1}^{SB}$, $S/B$=0.01')\n",
    "plt.errorbar(x=0.5*(y_bins[:-1]+y_bins[1:]),xerr=0.5*(y_bins[1:]-y_bins[:-1]),y=0.01*(m2_per_bin_sig-m2_avg_bkg)/m2_avg_bkg,yerr=0.01*err_delta_2_per_bin_sig,fmt='s',color=mycolors[7],label=r'$(S/B)\\Delta_{m_2}^{SB}$, $S/B$=0.01')\n",
    "\n",
    "\n",
    "plt.legend(loc='upper left',fontsize=15)\n",
    "plt.xlabel('$m_{jj}$ [GeV]')\n",
    "plt.ylabel('$\\Delta_{c}^{ab}$')\n",
    "plt.xticks(np.arange(y_bins[0],y_bins[-1]+100.0,100.0))\n",
    "plt.axvline(3300,color='black',linestyle='dashed')\n",
    "plt.axvline(3700,color='black',linestyle='dashed')\n",
    "plt.tight_layout()\n",
    "plt.savefig(results_dir+'mass_comparison_with_lines.pdf')"
   ]
  },
  {
   "cell_type": "code",
   "execution_count": null,
   "id": "314ff1ff",
   "metadata": {},
   "outputs": [],
   "source": []
  }
 ],
 "metadata": {
  "kernelspec": {
   "display_name": "Python 3 (ipykernel)",
   "language": "python",
   "name": "python3"
  },
  "language_info": {
   "codemirror_mode": {
    "name": "ipython",
    "version": 3
   },
   "file_extension": ".py",
   "mimetype": "text/x-python",
   "name": "python",
   "nbconvert_exporter": "python",
   "pygments_lexer": "ipython3",
   "version": "3.10.6"
  }
 },
 "nbformat": 4,
 "nbformat_minor": 5
}
